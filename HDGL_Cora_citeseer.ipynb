{
  "cells": [
    {
      "cell_type": "markdown",
      "source": [
        "The following code is for HDGL which uses HD-Computing Operations. Clearly, Pytorch doesn't support operations such as Bit-wise Majority (For Bundling). This is why we translate 0/1 vectors to 1/-1 vectors as the Bundle Operator becomes signed addition in $\\{1,-1\\}^{\\beta}$ space. Similarly, Binding operator which is XOR operation in $\\{0,1\\}^{\\beta}$ space is the multiplication operation in the $\\{1,-1\\}^{\\beta}$ space.\n",
        "\n",
        "\n",
        "\n",
        "To summarize, below are the details for the bipolar counterparts:-\n",
        "\n",
        "\n",
        "*    Space: $\\{0,1\\}^{\\beta} \\longleftrightarrow \\{1,-1\\}^{\\beta}$\n",
        "\n",
        "*    Bundle: Bitwise Majority $\\longleftrightarrow$ Signed Addition\n",
        "\n",
        "*    Binding: XOR $\\longleftrightarrow$ Multiplication"
      ],
      "metadata": {
        "id": "EoPPrRY0VyLl"
      }
    },
    {
      "cell_type": "markdown",
      "source": [
        "We now describe the pseudo-code to make things easier:-\n",
        "\n",
        "Given:-\n",
        "*   feat (Features of N nodes)\n",
        "*   G (graph with adjacnency information for N nodes)\n",
        "*   Train_val_nodes (ids of train and val nodes)\n",
        "*   Test_nodes (ids of test nodes)\n",
        "*   Number_of_Labels\n",
        "*   Labels_train_val (Labels for train which are from index 0 to Number_of_Labels-1)\n",
        "\n",
        "\n",
        "\n",
        "Psuedo-code:\n",
        "Let β=50k\n",
        "1.   Create Bipolar HD-vectors for each Labels; stored as Labels_HD_Vectors (size= (Number_of_Labels, 50k))\n",
        "2.   Project feat to $\\{-1,1\\}^{50k}$ space using RHPT to obtain feat_hashed.\n",
        "3.   Convert feat_hashed to bipolar vectors.\n",
        "4.   For i in train_and_validation nodes:-\n",
        "       *   Sample 11 1-hop Neighbors of i\n",
        "       *   Sample 21 2-hop Neighbors of i\n",
        "       *   r_i = feat_hashed[i],\n",
        "       *   R_1hop = Bundle(feat_hashed[1-hop_neighbors])\n",
        "       *   R_2hop = Bundle(feat_hashed[2-hop_neighbors])\n",
        "       *   z_i = Bind(r_i, \\pi(R_1hop), \\pi\\pi(R_2hop))\n",
        "       *   y_i = Labels_train_val[i] # get the label of train node\n",
        "       *   Labels_HD_Vectors[y_i] = Labels_HD_Vectors[y_i] + z_i (additon part of Bundling)\n",
        "5.    Labels_HD_Vectors = sign(Labels_HD_Vectors) # Bundle is complete\n",
        "-------------------Train Part Ends Here-----------------\n",
        "\n",
        "\n",
        "---\n",
        "\n",
        "\n",
        "Now For Testing....\n",
        "1.   For i in test nodes:-\n",
        "       *   Sample 11 1-hop Neighbors of i\n",
        "       *   Sample 21 2-hop Neighbors of i\n",
        "       *   r_i = feat_hashed[i],\n",
        "       *   R_1hop = Bundle(feat_hashed[1-hop_neighbors])\n",
        "       *   R_2hop = Bundle(feat_hashed[2-hop_neighbors])\n",
        "       *   z_i = Bind(r_i, \\pi(R_1hop), \\pi\\pi(R_2hop))\n",
        "       *   y_prediction_i = Find_index_nearest_neighbor of z_i ( Labels_HD_Vectors[0], Labels_HD_Vectors[1], ... )\n",
        "       \n"
      ],
      "metadata": {
        "id": "PCDgIjf3V2RI"
      }
    },
    {
      "cell_type": "code",
      "execution_count": 1,
      "metadata": {
        "colab": {
          "base_uri": "https://localhost:8080/"
        },
        "id": "UshQaQBmJR6M",
        "outputId": "56e13918-dc43-409c-b81d-475f36b91bb9"
      },
      "outputs": [
        {
          "output_type": "stream",
          "name": "stdout",
          "text": [
            "CPU times: user 3 µs, sys: 2 µs, total: 5 µs\n",
            "Wall time: 7.15 µs\n",
            "nvcc: NVIDIA (R) Cuda compiler driver\n",
            "Copyright (c) 2005-2023 NVIDIA Corporation\n",
            "Built on Tue_Aug_15_22:02:13_PDT_2023\n",
            "Cuda compilation tools, release 12.2, V12.2.140\n",
            "Build cuda_12.2.r12.2/compiler.33191640_0\n"
          ]
        }
      ],
      "source": [
        "%time\n",
        "!nvcc --version"
      ]
    },
    {
      "cell_type": "code",
      "execution_count": 2,
      "metadata": {
        "colab": {
          "base_uri": "https://localhost:8080/"
        },
        "id": "oSxxTBZrb3gc",
        "outputId": "ac762e2e-6a54-46a3-9f21-6e2c576fdcca"
      },
      "outputs": [
        {
          "output_type": "stream",
          "name": "stdout",
          "text": [
            "/bin/bash: line 1: nvidia-smi: command not found\n"
          ]
        }
      ],
      "source": [
        "!nvidia-smi"
      ]
    },
    {
      "cell_type": "code",
      "source": [
        "!pip uninstall torch -y\n",
        "!pip uninstall torchvision -y\n",
        "!pip uninstall torchaudio -y\n",
        "!pip uninstall torchtext -y"
      ],
      "metadata": {
        "colab": {
          "base_uri": "https://localhost:8080/"
        },
        "id": "z8fXu5Ij-Qef",
        "outputId": "0849a0a1-5a93-457b-9eca-88bf0bc9c835"
      },
      "execution_count": 3,
      "outputs": [
        {
          "output_type": "stream",
          "name": "stdout",
          "text": [
            "Found existing installation: torch 2.5.0+cu121\n",
            "Uninstalling torch-2.5.0+cu121:\n",
            "  Successfully uninstalled torch-2.5.0+cu121\n",
            "Found existing installation: torchvision 0.20.0+cu121\n",
            "Uninstalling torchvision-0.20.0+cu121:\n",
            "  Successfully uninstalled torchvision-0.20.0+cu121\n",
            "Found existing installation: torchaudio 2.5.0+cu121\n",
            "Uninstalling torchaudio-2.5.0+cu121:\n",
            "  Successfully uninstalled torchaudio-2.5.0+cu121\n",
            "\u001b[33mWARNING: Skipping torchtext as it is not installed.\u001b[0m\u001b[33m\n",
            "\u001b[0m"
          ]
        }
      ]
    },
    {
      "cell_type": "code",
      "source": [
        "!pip install torch==2.4"
      ],
      "metadata": {
        "colab": {
          "base_uri": "https://localhost:8080/"
        },
        "id": "cjTn4KQ4-R6w",
        "outputId": "35190db8-ed38-462e-d3f2-42d670881226"
      },
      "execution_count": 4,
      "outputs": [
        {
          "output_type": "stream",
          "name": "stdout",
          "text": [
            "Collecting torch==2.4\n",
            "  Downloading torch-2.4.0-cp310-cp310-manylinux1_x86_64.whl.metadata (26 kB)\n",
            "Requirement already satisfied: filelock in /usr/local/lib/python3.10/dist-packages (from torch==2.4) (3.16.1)\n",
            "Requirement already satisfied: typing-extensions>=4.8.0 in /usr/local/lib/python3.10/dist-packages (from torch==2.4) (4.12.2)\n",
            "Requirement already satisfied: sympy in /usr/local/lib/python3.10/dist-packages (from torch==2.4) (1.13.1)\n",
            "Requirement already satisfied: networkx in /usr/local/lib/python3.10/dist-packages (from torch==2.4) (3.4.2)\n",
            "Requirement already satisfied: jinja2 in /usr/local/lib/python3.10/dist-packages (from torch==2.4) (3.1.4)\n",
            "Requirement already satisfied: fsspec in /usr/local/lib/python3.10/dist-packages (from torch==2.4) (2024.10.0)\n",
            "Collecting nvidia-cuda-nvrtc-cu12==12.1.105 (from torch==2.4)\n",
            "  Downloading nvidia_cuda_nvrtc_cu12-12.1.105-py3-none-manylinux1_x86_64.whl.metadata (1.5 kB)\n",
            "Collecting nvidia-cuda-runtime-cu12==12.1.105 (from torch==2.4)\n",
            "  Downloading nvidia_cuda_runtime_cu12-12.1.105-py3-none-manylinux1_x86_64.whl.metadata (1.5 kB)\n",
            "Collecting nvidia-cuda-cupti-cu12==12.1.105 (from torch==2.4)\n",
            "  Downloading nvidia_cuda_cupti_cu12-12.1.105-py3-none-manylinux1_x86_64.whl.metadata (1.6 kB)\n",
            "Collecting nvidia-cudnn-cu12==9.1.0.70 (from torch==2.4)\n",
            "  Downloading nvidia_cudnn_cu12-9.1.0.70-py3-none-manylinux2014_x86_64.whl.metadata (1.6 kB)\n",
            "Collecting nvidia-cublas-cu12==12.1.3.1 (from torch==2.4)\n",
            "  Downloading nvidia_cublas_cu12-12.1.3.1-py3-none-manylinux1_x86_64.whl.metadata (1.5 kB)\n",
            "Collecting nvidia-cufft-cu12==11.0.2.54 (from torch==2.4)\n",
            "  Downloading nvidia_cufft_cu12-11.0.2.54-py3-none-manylinux1_x86_64.whl.metadata (1.5 kB)\n",
            "Collecting nvidia-curand-cu12==10.3.2.106 (from torch==2.4)\n",
            "  Downloading nvidia_curand_cu12-10.3.2.106-py3-none-manylinux1_x86_64.whl.metadata (1.5 kB)\n",
            "Collecting nvidia-cusolver-cu12==11.4.5.107 (from torch==2.4)\n",
            "  Downloading nvidia_cusolver_cu12-11.4.5.107-py3-none-manylinux1_x86_64.whl.metadata (1.6 kB)\n",
            "Collecting nvidia-cusparse-cu12==12.1.0.106 (from torch==2.4)\n",
            "  Downloading nvidia_cusparse_cu12-12.1.0.106-py3-none-manylinux1_x86_64.whl.metadata (1.6 kB)\n",
            "Collecting nvidia-nccl-cu12==2.20.5 (from torch==2.4)\n",
            "  Downloading nvidia_nccl_cu12-2.20.5-py3-none-manylinux2014_x86_64.whl.metadata (1.8 kB)\n",
            "Collecting nvidia-nvtx-cu12==12.1.105 (from torch==2.4)\n",
            "  Downloading nvidia_nvtx_cu12-12.1.105-py3-none-manylinux1_x86_64.whl.metadata (1.7 kB)\n",
            "Collecting triton==3.0.0 (from torch==2.4)\n",
            "  Downloading triton-3.0.0-1-cp310-cp310-manylinux2014_x86_64.manylinux_2_17_x86_64.whl.metadata (1.3 kB)\n",
            "Requirement already satisfied: nvidia-nvjitlink-cu12 in /usr/local/lib/python3.10/dist-packages (from nvidia-cusolver-cu12==11.4.5.107->torch==2.4) (12.6.77)\n",
            "Requirement already satisfied: MarkupSafe>=2.0 in /usr/local/lib/python3.10/dist-packages (from jinja2->torch==2.4) (3.0.2)\n",
            "Requirement already satisfied: mpmath<1.4,>=1.1.0 in /usr/local/lib/python3.10/dist-packages (from sympy->torch==2.4) (1.3.0)\n",
            "Downloading torch-2.4.0-cp310-cp310-manylinux1_x86_64.whl (797.2 MB)\n",
            "\u001b[2K   \u001b[90m━━━━━━━━━━━━━━━━━━━━━━━━━━━━━━━━━━━━━━━━\u001b[0m \u001b[32m797.2/797.2 MB\u001b[0m \u001b[31m1.9 MB/s\u001b[0m eta \u001b[36m0:00:00\u001b[0m\n",
            "\u001b[?25hDownloading nvidia_cublas_cu12-12.1.3.1-py3-none-manylinux1_x86_64.whl (410.6 MB)\n",
            "\u001b[2K   \u001b[90m━━━━━━━━━━━━━━━━━━━━━━━━━━━━━━━━━━━━━━━━\u001b[0m \u001b[32m410.6/410.6 MB\u001b[0m \u001b[31m2.9 MB/s\u001b[0m eta \u001b[36m0:00:00\u001b[0m\n",
            "\u001b[?25hDownloading nvidia_cuda_cupti_cu12-12.1.105-py3-none-manylinux1_x86_64.whl (14.1 MB)\n",
            "\u001b[2K   \u001b[90m━━━━━━━━━━━━━━━━━━━━━━━━━━━━━━━━━━━━━━━━\u001b[0m \u001b[32m14.1/14.1 MB\u001b[0m \u001b[31m31.3 MB/s\u001b[0m eta \u001b[36m0:00:00\u001b[0m\n",
            "\u001b[?25hDownloading nvidia_cuda_nvrtc_cu12-12.1.105-py3-none-manylinux1_x86_64.whl (23.7 MB)\n",
            "\u001b[2K   \u001b[90m━━━━━━━━━━━━━━━━━━━━━━━━━━━━━━━━━━━━━━━━\u001b[0m \u001b[32m23.7/23.7 MB\u001b[0m \u001b[31m31.8 MB/s\u001b[0m eta \u001b[36m0:00:00\u001b[0m\n",
            "\u001b[?25hDownloading nvidia_cuda_runtime_cu12-12.1.105-py3-none-manylinux1_x86_64.whl (823 kB)\n",
            "\u001b[2K   \u001b[90m━━━━━━━━━━━━━━━━━━━━━━━━━━━━━━━━━━━━━━━━\u001b[0m \u001b[32m823.6/823.6 kB\u001b[0m \u001b[31m30.2 MB/s\u001b[0m eta \u001b[36m0:00:00\u001b[0m\n",
            "\u001b[?25hDownloading nvidia_cudnn_cu12-9.1.0.70-py3-none-manylinux2014_x86_64.whl (664.8 MB)\n",
            "\u001b[2K   \u001b[90m━━━━━━━━━━━━━━━━━━━━━━━━━━━━━━━━━━━━━━━━\u001b[0m \u001b[32m664.8/664.8 MB\u001b[0m \u001b[31m3.0 MB/s\u001b[0m eta \u001b[36m0:00:00\u001b[0m\n",
            "\u001b[?25hDownloading nvidia_cufft_cu12-11.0.2.54-py3-none-manylinux1_x86_64.whl (121.6 MB)\n",
            "\u001b[2K   \u001b[90m━━━━━━━━━━━━━━━━━━━━━━━━━━━━━━━━━━━━━━━━\u001b[0m \u001b[32m121.6/121.6 MB\u001b[0m \u001b[31m8.3 MB/s\u001b[0m eta \u001b[36m0:00:00\u001b[0m\n",
            "\u001b[?25hDownloading nvidia_curand_cu12-10.3.2.106-py3-none-manylinux1_x86_64.whl (56.5 MB)\n",
            "\u001b[2K   \u001b[90m━━━━━━━━━━━━━━━━━━━━━━━━━━━━━━━━━━━━━━━━\u001b[0m \u001b[32m56.5/56.5 MB\u001b[0m \u001b[31m22.2 MB/s\u001b[0m eta \u001b[36m0:00:00\u001b[0m\n",
            "\u001b[?25hDownloading nvidia_cusolver_cu12-11.4.5.107-py3-none-manylinux1_x86_64.whl (124.2 MB)\n",
            "\u001b[2K   \u001b[90m━━━━━━━━━━━━━━━━━━━━━━━━━━━━━━━━━━━━━━━━\u001b[0m \u001b[32m124.2/124.2 MB\u001b[0m \u001b[31m5.1 MB/s\u001b[0m eta \u001b[36m0:00:00\u001b[0m\n",
            "\u001b[?25hDownloading nvidia_cusparse_cu12-12.1.0.106-py3-none-manylinux1_x86_64.whl (196.0 MB)\n",
            "\u001b[2K   \u001b[90m━━━━━━━━━━━━━━━━━━━━━━━━━━━━━━━━━━━━━━━━\u001b[0m \u001b[32m196.0/196.0 MB\u001b[0m \u001b[31m4.9 MB/s\u001b[0m eta \u001b[36m0:00:00\u001b[0m\n",
            "\u001b[?25hDownloading nvidia_nccl_cu12-2.20.5-py3-none-manylinux2014_x86_64.whl (176.2 MB)\n",
            "\u001b[2K   \u001b[90m━━━━━━━━━━━━━━━━━━━━━━━━━━━━━━━━━━━━━━━━\u001b[0m \u001b[32m176.2/176.2 MB\u001b[0m \u001b[31m5.4 MB/s\u001b[0m eta \u001b[36m0:00:00\u001b[0m\n",
            "\u001b[?25hDownloading nvidia_nvtx_cu12-12.1.105-py3-none-manylinux1_x86_64.whl (99 kB)\n",
            "\u001b[2K   \u001b[90m━━━━━━━━━━━━━━━━━━━━━━━━━━━━━━━━━━━━━━━━\u001b[0m \u001b[32m99.1/99.1 kB\u001b[0m \u001b[31m7.2 MB/s\u001b[0m eta \u001b[36m0:00:00\u001b[0m\n",
            "\u001b[?25hDownloading triton-3.0.0-1-cp310-cp310-manylinux2014_x86_64.manylinux_2_17_x86_64.whl (209.4 MB)\n",
            "\u001b[2K   \u001b[90m━━━━━━━━━━━━━━━━━━━━━━━━━━━━━━━━━━━━━━━━\u001b[0m \u001b[32m209.4/209.4 MB\u001b[0m \u001b[31m3.5 MB/s\u001b[0m eta \u001b[36m0:00:00\u001b[0m\n",
            "\u001b[?25hInstalling collected packages: triton, nvidia-nvtx-cu12, nvidia-nccl-cu12, nvidia-cusparse-cu12, nvidia-curand-cu12, nvidia-cufft-cu12, nvidia-cuda-runtime-cu12, nvidia-cuda-nvrtc-cu12, nvidia-cuda-cupti-cu12, nvidia-cublas-cu12, nvidia-cusolver-cu12, nvidia-cudnn-cu12, torch\n",
            "  Attempting uninstall: nvidia-nccl-cu12\n",
            "    Found existing installation: nvidia-nccl-cu12 2.23.4\n",
            "    Uninstalling nvidia-nccl-cu12-2.23.4:\n",
            "      Successfully uninstalled nvidia-nccl-cu12-2.23.4\n",
            "  Attempting uninstall: nvidia-cusparse-cu12\n",
            "    Found existing installation: nvidia-cusparse-cu12 12.5.4.2\n",
            "    Uninstalling nvidia-cusparse-cu12-12.5.4.2:\n",
            "      Successfully uninstalled nvidia-cusparse-cu12-12.5.4.2\n",
            "  Attempting uninstall: nvidia-curand-cu12\n",
            "    Found existing installation: nvidia-curand-cu12 10.3.7.77\n",
            "    Uninstalling nvidia-curand-cu12-10.3.7.77:\n",
            "      Successfully uninstalled nvidia-curand-cu12-10.3.7.77\n",
            "  Attempting uninstall: nvidia-cufft-cu12\n",
            "    Found existing installation: nvidia-cufft-cu12 11.3.0.4\n",
            "    Uninstalling nvidia-cufft-cu12-11.3.0.4:\n",
            "      Successfully uninstalled nvidia-cufft-cu12-11.3.0.4\n",
            "  Attempting uninstall: nvidia-cuda-runtime-cu12\n",
            "    Found existing installation: nvidia-cuda-runtime-cu12 12.6.77\n",
            "    Uninstalling nvidia-cuda-runtime-cu12-12.6.77:\n",
            "      Successfully uninstalled nvidia-cuda-runtime-cu12-12.6.77\n",
            "  Attempting uninstall: nvidia-cuda-cupti-cu12\n",
            "    Found existing installation: nvidia-cuda-cupti-cu12 12.6.80\n",
            "    Uninstalling nvidia-cuda-cupti-cu12-12.6.80:\n",
            "      Successfully uninstalled nvidia-cuda-cupti-cu12-12.6.80\n",
            "  Attempting uninstall: nvidia-cublas-cu12\n",
            "    Found existing installation: nvidia-cublas-cu12 12.6.3.3\n",
            "    Uninstalling nvidia-cublas-cu12-12.6.3.3:\n",
            "      Successfully uninstalled nvidia-cublas-cu12-12.6.3.3\n",
            "  Attempting uninstall: nvidia-cusolver-cu12\n",
            "    Found existing installation: nvidia-cusolver-cu12 11.7.1.2\n",
            "    Uninstalling nvidia-cusolver-cu12-11.7.1.2:\n",
            "      Successfully uninstalled nvidia-cusolver-cu12-11.7.1.2\n",
            "  Attempting uninstall: nvidia-cudnn-cu12\n",
            "    Found existing installation: nvidia-cudnn-cu12 9.5.1.17\n",
            "    Uninstalling nvidia-cudnn-cu12-9.5.1.17:\n",
            "      Successfully uninstalled nvidia-cudnn-cu12-9.5.1.17\n",
            "\u001b[31mERROR: pip's dependency resolver does not currently take into account all the packages that are installed. This behaviour is the source of the following dependency conflicts.\n",
            "fastai 2.7.18 requires torchvision>=0.11, which is not installed.\n",
            "timm 1.0.11 requires torchvision, which is not installed.\u001b[0m\u001b[31m\n",
            "\u001b[0mSuccessfully installed nvidia-cublas-cu12-12.1.3.1 nvidia-cuda-cupti-cu12-12.1.105 nvidia-cuda-nvrtc-cu12-12.1.105 nvidia-cuda-runtime-cu12-12.1.105 nvidia-cudnn-cu12-9.1.0.70 nvidia-cufft-cu12-11.0.2.54 nvidia-curand-cu12-10.3.2.106 nvidia-cusolver-cu12-11.4.5.107 nvidia-cusparse-cu12-12.1.0.106 nvidia-nccl-cu12-2.20.5 nvidia-nvtx-cu12-12.1.105 torch-2.4.0 triton-3.0.0\n"
          ]
        }
      ]
    },
    {
      "cell_type": "code",
      "execution_count": 5,
      "metadata": {
        "colab": {
          "base_uri": "https://localhost:8080/"
        },
        "id": "cCWSkVfxK26f",
        "outputId": "4d7cdcff-a23b-45f2-bf01-0505cf2f6099"
      },
      "outputs": [
        {
          "output_type": "stream",
          "name": "stdout",
          "text": [
            "Looking in links: https://data.dgl.ai/wheels/torch-2.4/cu121/repo.html\n",
            "Collecting dgl\n",
            "  Downloading https://data.dgl.ai/wheels/torch-2.4/cu121/dgl-2.4.0%2Bcu121-cp310-cp310-manylinux1_x86_64.whl (355.2 MB)\n",
            "\u001b[2K     \u001b[90m━━━━━━━━━━━━━━━━━━━━━━━━━━━━━━━━━━━━━━━━\u001b[0m \u001b[32m355.2/355.2 MB\u001b[0m \u001b[31m2.7 MB/s\u001b[0m eta \u001b[36m0:00:00\u001b[0m\n",
            "\u001b[?25hRequirement already satisfied: networkx>=2.1 in /usr/local/lib/python3.10/dist-packages (from dgl) (3.4.2)\n",
            "Requirement already satisfied: numpy>=1.14.0 in /usr/local/lib/python3.10/dist-packages (from dgl) (1.26.4)\n",
            "Requirement already satisfied: packaging in /usr/local/lib/python3.10/dist-packages (from dgl) (24.1)\n",
            "Requirement already satisfied: pandas in /usr/local/lib/python3.10/dist-packages (from dgl) (2.2.2)\n",
            "Requirement already satisfied: psutil>=5.8.0 in /usr/local/lib/python3.10/dist-packages (from dgl) (5.9.5)\n",
            "Requirement already satisfied: pydantic>=2.0 in /usr/local/lib/python3.10/dist-packages (from dgl) (2.9.2)\n",
            "Requirement already satisfied: pyyaml in /usr/local/lib/python3.10/dist-packages (from dgl) (6.0.2)\n",
            "Requirement already satisfied: requests>=2.19.0 in /usr/local/lib/python3.10/dist-packages (from dgl) (2.32.3)\n",
            "Requirement already satisfied: scipy>=1.1.0 in /usr/local/lib/python3.10/dist-packages (from dgl) (1.13.1)\n",
            "Requirement already satisfied: tqdm in /usr/local/lib/python3.10/dist-packages (from dgl) (4.66.6)\n",
            "Requirement already satisfied: torch<=2.4.0 in /usr/local/lib/python3.10/dist-packages (from dgl) (2.4.0)\n",
            "Requirement already satisfied: annotated-types>=0.6.0 in /usr/local/lib/python3.10/dist-packages (from pydantic>=2.0->dgl) (0.7.0)\n",
            "Requirement already satisfied: pydantic-core==2.23.4 in /usr/local/lib/python3.10/dist-packages (from pydantic>=2.0->dgl) (2.23.4)\n",
            "Requirement already satisfied: typing-extensions>=4.6.1 in /usr/local/lib/python3.10/dist-packages (from pydantic>=2.0->dgl) (4.12.2)\n",
            "Requirement already satisfied: charset-normalizer<4,>=2 in /usr/local/lib/python3.10/dist-packages (from requests>=2.19.0->dgl) (3.4.0)\n",
            "Requirement already satisfied: idna<4,>=2.5 in /usr/local/lib/python3.10/dist-packages (from requests>=2.19.0->dgl) (3.10)\n",
            "Requirement already satisfied: urllib3<3,>=1.21.1 in /usr/local/lib/python3.10/dist-packages (from requests>=2.19.0->dgl) (2.2.3)\n",
            "Requirement already satisfied: certifi>=2017.4.17 in /usr/local/lib/python3.10/dist-packages (from requests>=2.19.0->dgl) (2024.8.30)\n",
            "Requirement already satisfied: filelock in /usr/local/lib/python3.10/dist-packages (from torch<=2.4.0->dgl) (3.16.1)\n",
            "Requirement already satisfied: sympy in /usr/local/lib/python3.10/dist-packages (from torch<=2.4.0->dgl) (1.13.1)\n",
            "Requirement already satisfied: jinja2 in /usr/local/lib/python3.10/dist-packages (from torch<=2.4.0->dgl) (3.1.4)\n",
            "Requirement already satisfied: fsspec in /usr/local/lib/python3.10/dist-packages (from torch<=2.4.0->dgl) (2024.10.0)\n",
            "Requirement already satisfied: nvidia-cuda-nvrtc-cu12==12.1.105 in /usr/local/lib/python3.10/dist-packages (from torch<=2.4.0->dgl) (12.1.105)\n",
            "Requirement already satisfied: nvidia-cuda-runtime-cu12==12.1.105 in /usr/local/lib/python3.10/dist-packages (from torch<=2.4.0->dgl) (12.1.105)\n",
            "Requirement already satisfied: nvidia-cuda-cupti-cu12==12.1.105 in /usr/local/lib/python3.10/dist-packages (from torch<=2.4.0->dgl) (12.1.105)\n",
            "Requirement already satisfied: nvidia-cudnn-cu12==9.1.0.70 in /usr/local/lib/python3.10/dist-packages (from torch<=2.4.0->dgl) (9.1.0.70)\n",
            "Requirement already satisfied: nvidia-cublas-cu12==12.1.3.1 in /usr/local/lib/python3.10/dist-packages (from torch<=2.4.0->dgl) (12.1.3.1)\n",
            "Requirement already satisfied: nvidia-cufft-cu12==11.0.2.54 in /usr/local/lib/python3.10/dist-packages (from torch<=2.4.0->dgl) (11.0.2.54)\n",
            "Requirement already satisfied: nvidia-curand-cu12==10.3.2.106 in /usr/local/lib/python3.10/dist-packages (from torch<=2.4.0->dgl) (10.3.2.106)\n",
            "Requirement already satisfied: nvidia-cusolver-cu12==11.4.5.107 in /usr/local/lib/python3.10/dist-packages (from torch<=2.4.0->dgl) (11.4.5.107)\n",
            "Requirement already satisfied: nvidia-cusparse-cu12==12.1.0.106 in /usr/local/lib/python3.10/dist-packages (from torch<=2.4.0->dgl) (12.1.0.106)\n",
            "Requirement already satisfied: nvidia-nccl-cu12==2.20.5 in /usr/local/lib/python3.10/dist-packages (from torch<=2.4.0->dgl) (2.20.5)\n",
            "Requirement already satisfied: nvidia-nvtx-cu12==12.1.105 in /usr/local/lib/python3.10/dist-packages (from torch<=2.4.0->dgl) (12.1.105)\n",
            "Requirement already satisfied: triton==3.0.0 in /usr/local/lib/python3.10/dist-packages (from torch<=2.4.0->dgl) (3.0.0)\n",
            "Requirement already satisfied: nvidia-nvjitlink-cu12 in /usr/local/lib/python3.10/dist-packages (from nvidia-cusolver-cu12==11.4.5.107->torch<=2.4.0->dgl) (12.6.77)\n",
            "Requirement already satisfied: python-dateutil>=2.8.2 in /usr/local/lib/python3.10/dist-packages (from pandas->dgl) (2.8.2)\n",
            "Requirement already satisfied: pytz>=2020.1 in /usr/local/lib/python3.10/dist-packages (from pandas->dgl) (2024.2)\n",
            "Requirement already satisfied: tzdata>=2022.7 in /usr/local/lib/python3.10/dist-packages (from pandas->dgl) (2024.2)\n",
            "Requirement already satisfied: six>=1.5 in /usr/local/lib/python3.10/dist-packages (from python-dateutil>=2.8.2->pandas->dgl) (1.16.0)\n",
            "Requirement already satisfied: MarkupSafe>=2.0 in /usr/local/lib/python3.10/dist-packages (from jinja2->torch<=2.4.0->dgl) (3.0.2)\n",
            "Requirement already satisfied: mpmath<1.4,>=1.1.0 in /usr/local/lib/python3.10/dist-packages (from sympy->torch<=2.4.0->dgl) (1.3.0)\n",
            "Installing collected packages: dgl\n",
            "Successfully installed dgl-2.4.0+cu121\n"
          ]
        }
      ],
      "source": [
        "!pip install  dgl -f https://data.dgl.ai/wheels/torch-2.4/cu121/repo.html\n",
        "import os\n",
        "os.environ[\"DGLBACKEND\"] = \"pytorch\"\n",
        "import dgl\n",
        "import time\n",
        "import numpy as np"
      ]
    },
    {
      "cell_type": "code",
      "execution_count": 24,
      "metadata": {
        "id": "PLA-MlAWeszP"
      },
      "outputs": [],
      "source": [
        "import sys\n",
        "import torch\n",
        "import scipy\n",
        "from scipy.sparse import csr_matrix\n",
        "from sklearn.metrics import pairwise_distances\n",
        "from scipy.sparse import coo_matrix"
      ]
    },
    {
      "cell_type": "code",
      "execution_count": 25,
      "metadata": {
        "id": "A1QX4XomfzW2"
      },
      "outputs": [],
      "source": [
        "class HDGL_utils_functions():\n",
        "\n",
        "  def __init__(self, features_dimension, hash_length):\n",
        "    self.random_A = torch.randn(features_dimension, hash_length)\n",
        "    low = -2\n",
        "    high = 2\n",
        "    self.lmbda = (high - low) * torch.rand(hash_length) + low\n",
        "\n",
        "    print(\"Here\")\n",
        "\n",
        "  def get_ids_labels(self, train_nodes_mask, val_nodes_mask, test_nodes_mask, labels_for_nodes):\n",
        "\n",
        "    train_node_ids = torch.nonzero(train_nodes_mask).flatten()\n",
        "    val_node_ids = torch.nonzero(val_nodes_mask).flatten()\n",
        "    test_node_ids = torch.nonzero(test_nodes_mask).flatten()\n",
        "\n",
        "    train_node_labels = labels_for_nodes[train_node_ids]\n",
        "    val_node_labels = labels_for_nodes[val_node_ids]\n",
        "    test_node_labels= labels_for_nodes[test_node_ids]\n",
        "\n",
        "    return train_node_ids, train_node_labels, val_node_ids, val_node_labels, test_node_ids, test_node_labels\n",
        "\n",
        "  def create_hash(self, features):\n",
        "    r = torch.sparse.mm(features, self.random_A)\n",
        "    r = r + self.lmbda\n",
        "    r = (r > 0).float()\n",
        "    r = self.convert_binary_to_bipolar(r)\n",
        "    return r\n",
        "\n",
        "  def convert_binary_to_bipolar(self, HD_vecs):\n",
        "    return (2 * HD_vecs) -1"
      ]
    },
    {
      "cell_type": "markdown",
      "source": [
        "To run experiments on different dataset, change below"
      ],
      "metadata": {
        "id": "bCW7fd1sWA4V"
      }
    },
    {
      "cell_type": "code",
      "execution_count": 30,
      "metadata": {
        "colab": {
          "base_uri": "https://localhost:8080/"
        },
        "id": "sSdLxd8A8YmS",
        "outputId": "5bc10034-2a71-4d01-b68f-1a97037f0dee"
      },
      "outputs": [
        {
          "output_type": "stream",
          "name": "stdout",
          "text": [
            "  NumNodes: 2708\n",
            "  NumEdges: 10556\n",
            "  NumFeats: 1433\n",
            "  NumClasses: 7\n",
            "  NumTrainingSamples: 140\n",
            "  NumValidationSamples: 500\n",
            "  NumTestSamples: 1000\n",
            "Done loading data from cached files.\n",
            "7\n",
            "Number of classes:- tensor([0, 1, 2, 3, 4, 5, 6])\n",
            "Features dimension:- 1433\n",
            "Here\n"
          ]
        }
      ],
      "source": [
        "from dgl.data import CoraGraphDataset, CiteseerGraphDataset\n",
        "dataset = CoraGraphDataset() # change here\n",
        "num_classes = dataset.num_classes\n",
        "print(num_classes)\n",
        "g = dataset[0]\n",
        "\n",
        "# get data split\n",
        "train_mask = g.ndata['train_mask']\n",
        "val_mask = g.ndata['val_mask']\n",
        "test_mask = g.ndata['test_mask']\n",
        "\n",
        "# get labels\n",
        "labels = g.ndata['label']\n",
        "feat = g.ndata['feat']\n",
        "\n",
        "\n",
        "\n",
        "#---------------row normalzie\n",
        "row_sum = torch.sum(feat, dim=1, keepdim=True)\n",
        "\n",
        "# Avoid division by zero by adding a small epsilon\n",
        "epsilon = 1e-8\n",
        "row_sum = torch.where(row_sum == 0, torch.tensor(epsilon, dtype=row_sum.dtype, device=row_sum.device), row_sum)\n",
        "\n",
        "# Normalize each row by dividing by its sum\n",
        "normalized_features = feat / row_sum\n",
        "feat = normalized_features\n",
        "\n",
        "#---------------row normalzie end\n",
        "\n",
        "print(\"Number of classes:-\", torch.unique(labels))\n",
        "print(\"Features dimension:-\", feat.size()[1])\n",
        "\n",
        "HDC_helper = HDGL_utils_functions(features_dimension =  feat.size()[1], hash_length=50000)\n",
        "Labels_HD_Vectors = torch.randint(0, 2, size=(num_classes,50000))\n",
        "Labels_HD_Vectors = HDC_helper.convert_binary_to_bipolar(Labels_HD_Vectors)\n",
        "\n",
        "mask_Labels =  torch.randint(0, 2, size=Labels_HD_Vectors.size())\n",
        "mask_Labels = HDC_helper.convert_binary_to_bipolar(mask_Labels)\n",
        "mask_Labels = mask_Labels * 0.1\n",
        "\n",
        "train_node_ids, train_node_labels, val_node_ids, val_node_labels, test_node_ids, test_node_labels = HDC_helper.get_ids_labels(train_mask, val_mask, test_mask, labels)"
      ]
    },
    {
      "cell_type": "markdown",
      "source": [
        "\n",
        "\n",
        "---\n",
        "\n",
        "\n",
        "Learning begins here\n",
        "\n",
        "\n",
        "---\n",
        "\n"
      ],
      "metadata": {
        "id": "zZxT5h4YW10C"
      }
    },
    {
      "cell_type": "code",
      "source": [
        "###########################\n",
        "start_time = time.time()\n",
        "###########################\n",
        "feat = HDC_helper.create_hash(feat.to_sparse()) # Mapping features to HD-space using RHPT\n",
        "###################\n",
        "print(\"Mapping raw features to HD space done\")\n",
        "#####################\n",
        "print(\"Starting to calculate HD latent representaion for nodes in the train/val set and creating Label HD Vectors\")\n",
        "###########################\n",
        "sampled_neighbors = {}\n",
        "g_2hop = dgl.transforms.khop_graph(g, 2)\n",
        "train_val_nodes = torch.cat((train_node_ids, val_node_ids))\n",
        "train_val_labels = torch.cat((train_node_labels, val_node_labels))\n",
        "for node, node_label_1 in zip(train_val_nodes,train_val_labels):\n",
        "    # Get 1-hop neighbors\n",
        "    one_hop_neighbors = g.successors(node).numpy()\n",
        "\n",
        "    if len(one_hop_neighbors) == 0:\n",
        "      continue\n",
        "\n",
        "    # Sample 11 1-hop neighbors\n",
        "    sampled_one_hop = np.random.choice(one_hop_neighbors, size=11, replace=True)\n",
        "\n",
        "    # Get 2-hop neighbors\n",
        "    two_hop_neighbors = g_2hop.successors(node).numpy()\n",
        "\n",
        "    if len(two_hop_neighbors) == 0:\n",
        "      continue\n",
        "\n",
        "    # Sample 21 2-hop neighbors\n",
        "    sampled_two_hop = np.random.choice(two_hop_neighbors, size=21, replace=True)\n",
        "\n",
        "    N_1hop = sampled_one_hop.tolist()\n",
        "\n",
        "    N_2hop = sampled_two_hop.tolist()\n",
        "\n",
        "    r_i = torch.sum((torch.unsqueeze(feat[node],0)), axis=0)\n",
        "\n",
        "    R_1hop = torch.sum((feat[N_1hop]),axis=0)\n",
        "\n",
        "    R_2hop = torch.sum((feat[N_2hop]),axis=0)\n",
        "\n",
        "    R_1hop = torch.sign(R_1hop)\n",
        "    R_2hop = torch.sign(R_2hop)\n",
        "\n",
        "    R_1hop = torch.roll(R_1hop,-1) #rotate once\n",
        "    R_2hop = torch.roll(R_2hop,-2) #rotate twice\n",
        "\n",
        "    z_i = r_i * R_1hop * R_2hop\n",
        "\n",
        "    y_i = node_label_1\n",
        "    Labels_HD_Vectors[y_i.item()] = Labels_HD_Vectors[y_i.item()] + z_i\n",
        "\n",
        "\n",
        "Labels_HD_Vectors = Labels_HD_Vectors + mask_Labels\n",
        "Labels_HD_Vectors = torch.sign(Labels_HD_Vectors)\n",
        "Labels_HD_Vectors = torch.where(Labels_HD_Vectors == -1, torch.tensor(0.0), torch.tensor(1.0)) # convert to binary\n",
        "\n",
        "###################\n",
        "end_time = time.time()\n",
        "elapsed_time_seconds = end_time - start_time\n",
        "print(\"Time Taken in Seconds\", elapsed_time_seconds)\n",
        "# Convert elapsed time to minutes\n",
        "elapsed_time_minutes = elapsed_time_seconds / 60\n",
        "print(\"Time Taken in Minutes\", elapsed_time_minutes)\n",
        "#####################"
      ],
      "metadata": {
        "colab": {
          "base_uri": "https://localhost:8080/"
        },
        "id": "xahlm2upWXKJ",
        "outputId": "7143ec80-eb15-4fe9-b04a-0c92156eede6"
      },
      "execution_count": 31,
      "outputs": [
        {
          "output_type": "stream",
          "name": "stdout",
          "text": [
            "Mapping raw features to HD space done\n",
            "Starting to calculate HD latent representaion for nodes in the train/val set and creating Label HD Vectors\n",
            "Time Taken in Seconds 3.6730549335479736\n",
            "Time Taken in Minutes 0.06121758222579956\n"
          ]
        }
      ]
    },
    {
      "cell_type": "markdown",
      "source": [
        "\n",
        "\n",
        "---\n",
        "\n",
        "\n",
        "Learning Phase Ends\n",
        "\n",
        "\n",
        "---\n",
        "\n"
      ],
      "metadata": {
        "id": "pyWx5ruWXrPe"
      }
    },
    {
      "cell_type": "markdown",
      "source": [
        "Calcuating latent HD representation for Test nodes and predicting labels"
      ],
      "metadata": {
        "id": "X5sBpL3dXx1t"
      }
    },
    {
      "cell_type": "code",
      "execution_count": 32,
      "metadata": {
        "id": "JLxV257BO755"
      },
      "outputs": [],
      "source": [
        "# Compute neighborrd for test nodes\n",
        "\n",
        "Test_nodes_label_preds = []\n",
        "for node in test_node_ids:\n",
        "    # Get 1-hop neighbors\n",
        "    one_hop_neighbors = g.successors(node).numpy()\n",
        "\n",
        "    if len(one_hop_neighbors) == 0: # No 1-hop neighbors for a test node then some default label\n",
        "      Test_nodes_label_preds.append(0)\n",
        "      continue\n",
        "\n",
        "    # Sample 11 1-hop neighbors\n",
        "    sampled_one_hop = np.random.choice(one_hop_neighbors, size=11, replace=True)\n",
        "\n",
        "    # Get 2-hop neighbors\n",
        "    two_hop_neighbors = g_2hop.successors(node).numpy()\n",
        "\n",
        "    # Exclude node form 2 hop nodes\n",
        "    two_hop_neighbors = list(set(two_hop_neighbors))\n",
        "\n",
        "    # Sample 21 2-hop neighbors\n",
        "    sampled_two_hop = np.random.choice(two_hop_neighbors, size=21, replace=True)\n",
        "\n",
        "\n",
        "    r_i = torch.sum((torch.unsqueeze(feat[node],0)), axis=0)\n",
        "\n",
        "    N_1hop = sampled_one_hop.tolist()\n",
        "    R_1hop = torch.sum((feat[N_1hop]),axis=0)\n",
        "\n",
        "    N_2hop = sampled_two_hop.tolist()\n",
        "    R_2hop = torch.sum((feat[N_2hop]),axis=0)\n",
        "\n",
        "    R_1hop = torch.sign(R_1hop)\n",
        "    R_2hop = torch.sign(R_2hop)\n",
        "\n",
        "    R_1hop = torch.roll(R_1hop,-1) #rotate once\n",
        "    R_2hop = torch.roll(R_2hop,-2) #rotate twice\n",
        "\n",
        "    z_i = r_i * R_1hop * R_2hop\n",
        "\n",
        "    z_i = torch.where(z_i == -1, torch.tensor(0.0), torch.tensor(1.0)) # convert to binary\n",
        "\n",
        "    Test_labels_pred_distances = torch.cdist(torch.unsqueeze(z_i,0), Labels_HD_Vectors, p=1)\n",
        "\n",
        "    y_i_pred = torch.argmin(Test_labels_pred_distances, dim=1)\n",
        "\n",
        "    Test_nodes_label_preds.append(y_i_pred.item())"
      ]
    },
    {
      "cell_type": "markdown",
      "source": [
        "Compute Accuracy of the predictions"
      ],
      "metadata": {
        "id": "aVt-pLXAYXv4"
      }
    },
    {
      "cell_type": "code",
      "execution_count": 33,
      "metadata": {
        "colab": {
          "base_uri": "https://localhost:8080/"
        },
        "id": "CGgyowb9EjLE",
        "outputId": "f0fa1fc7-f16a-4a7b-a9bc-b477de98728d"
      },
      "outputs": [
        {
          "output_type": "execute_result",
          "data": {
            "text/plain": [
              "0.797"
            ]
          },
          "metadata": {},
          "execution_count": 33
        }
      ],
      "source": [
        "from sklearn.metrics import accuracy_score\n",
        "accuracy_score(test_node_labels.numpy(), Test_nodes_label_preds)"
      ]
    }
  ],
  "metadata": {
    "colab": {
      "machine_shape": "hm",
      "provenance": []
    },
    "kernelspec": {
      "display_name": "Python 3",
      "name": "python3"
    },
    "language_info": {
      "name": "python"
    }
  },
  "nbformat": 4,
  "nbformat_minor": 0
}